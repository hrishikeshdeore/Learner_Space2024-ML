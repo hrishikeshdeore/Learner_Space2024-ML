{
  "cells": [
    {
      "cell_type": "code",
      "execution_count": 2,
      "metadata": {
        "id": "-zTLHrFCT6KY"
      },
      "outputs": [],
      "source": [
        "import numpy as np\n",
        "import pandas as pd\n",
        "import matplotlib.pyplot as plt\n",
        "from sklearn.preprocessing import LabelEncoder\n",
        "\n",
        "\n",
        "# Aim is to predict the marks of students of the test data"
      ]
    },
    {
      "cell_type": "code",
      "execution_count": 3,
      "metadata": {
        "id": "p0KHq8ZgTpU4"
      },
      "outputs": [],
      "source": [
        "# Use the file namd 'training data' to train the model\n",
        "\n",
        "data = pd.read_excel('Training data.xlsx')\n",
        "x_train = np.array(data.iloc[:,0:8])\n",
        "y_train = np.array(data.iloc[:,8]).reshape(-1,1)\n",
        "\n",
        "# Try plotting y_train with different features\n",
        "# To get an idea whether to add some features or not\n",
        "# Add some features if required in x_train\n",
        "\n",
        "# Also do label encoding for features not represented in numbers\n",
        "# refer the link if not know : https://youtu.be/589nCGeWG1w?si=t2Wa7LgbUOO4RooM\n",
        "\n",
        "def feature_changing(x_train):\n",
        "  # ---------\n",
        "    le_internet = LabelEncoder()\n",
        "    le_sex = LabelEncoder()\n",
        "\n",
        "    # Assuming 'internet' is the first column and 'sex' is the second column\n",
        "    x_train[:, 0] = le_internet.fit_transform(x_train[:, 0])\n",
        "    x_train[:, 1] = le_sex.fit_transform(x_train[:, 1])\n",
        "\n",
        "    # Feature Engineering: Creating new features if necessary\n",
        "    # Example: combining studytime and freetime to create a new feature: total_free_study_time\n",
        "    total_free_study_time = x_train[:, 3].astype(float) + x_train[:, 2].astype(float)\n",
        "    total_free_study_time = total_free_study_time.reshape(-1, 1)\n",
        "\n",
        "    # Adding the new feature to x_train\n",
        "    x_train = np.hstack((x_train, total_free_study_time))\n",
        "  # ---------\n",
        "    return x_train\n",
        "\n",
        "x_train = feature_changing(x_train)"
      ]
    },
    {
      "cell_type": "code",
      "execution_count": 4,
      "metadata": {
        "id": "tYshvtYlVour"
      },
      "outputs": [],
      "source": [
        "def z_score(x_train):\n",
        "\n",
        "  # ---------\n",
        "   x_mean = np.mean(x_train, axis=0)\n",
        "   x_std = np.std(x_train, axis=0)\n",
        "\n",
        "    # Perform z-score normalization\n",
        "   x_train = (x_train - x_mean) / x_std\n",
        "  # ---------\n",
        "\n",
        "   return x_train,x_std,x_mean"
      ]
    },
    {
      "cell_type": "code",
      "execution_count": 5,
      "metadata": {
        "id": "O5dOwbNbWJWa"
      },
      "outputs": [],
      "source": [
        "def cost(x_train,y_train,w,b):\n",
        "\n",
        "    m = len(y_train)\n",
        "\n",
        "    # Predicted values\n",
        "    y_pred = np.dot(x_train, w) + b\n",
        "\n",
        "    # Mean Squared Error\n",
        "    loss = (1/(2*m)) * np.sum((y_pred - y_train)**2)\n",
        "\n",
        "\n",
        "    return loss"
      ]
    },
    {
      "cell_type": "code",
      "execution_count": 6,
      "metadata": {
        "id": "hW8p2cTNU74W"
      },
      "outputs": [],
      "source": [
        "def gradient_descent(x_train,y_train,w,b):\n",
        "    m = len(y_train)  # Number of training examples\n",
        "    iterations=10\n",
        "    learning_rate = 0.1\n",
        "\n",
        "    for _ in range(iterations):\n",
        "        # Predicted values\n",
        "        y_pred = np.dot(x_train, w) + b\n",
        "\n",
        "        # Calculate gradients\n",
        "        dw = (1/m) * np.dot(x_train.T, (y_pred - y_train))\n",
        "        db = (1/m) * np.sum(y_pred - y_train)\n",
        "\n",
        "        # Update weights and bias\n",
        "        w = w - learning_rate * dw\n",
        "        b = b - learning_rate * db\n",
        "\n",
        "    return w,b"
      ]
    },
    {
      "cell_type": "code",
      "execution_count": 7,
      "metadata": {
        "colab": {
          "base_uri": "https://localhost:8080/"
        },
        "id": "Kl-fioJ5WkYn",
        "outputId": "7357d087-9193-4829-f8fe-e42ddc1d56fc"
      },
      "outputs": [
        {
          "name": "stdout",
          "output_type": "stream",
          "text": [
            "Congratulations, your accuracy is 100.0%\n"
          ]
        }
      ],
      "source": [
        "x_train = x_train.astype(np.float64)\n",
        "x_train,x_std,x_mean = z_score(x_train)\n",
        "\n",
        "np.random.seed(2147483647)\n",
        "w = np.random.randn(x_train.shape[1],1)\n",
        "b = np.random.randn(1)\n",
        "\n",
        "old_cost = 0\n",
        "\n",
        "while abs(old_cost - cost(x_train,y_train,w,b))>0.00001:\n",
        "  old_cost = cost(x_train,y_train,w,b)\n",
        "  w,b = gradient_descent(x_train,y_train,w,b)\n",
        "\n",
        "x_predict = pd.read_excel('Test data.xlsx').iloc[:,:8].to_numpy()\n",
        "x_predict = feature_changing(x_predict)\n",
        "x_predict = (x_predict - x_mean)/x_std\n",
        "ans = pd.read_excel('Test data.xlsx').iloc[:,8].to_numpy()\n",
        "\n",
        "y_predict = np.dot(x_predict,w) + b\n",
        "\n",
        "accuracy = 0\n",
        "for dim in range(len(ans)):\n",
        "  if abs(y_predict[dim]-ans[dim])<0.5: # do not change the tolerance as you'll be checked on +- 0.5 error only\n",
        "    accuracy += 1\n",
        "accuracy = round(accuracy*100/200.0,2)\n",
        "ok = 'Congratulations' if accuracy>95 else 'Optimization required'\n",
        "print(f\"{ok}, your accuracy is {accuracy}%\")"
      ]
    },
    {
      "cell_type": "code",
      "execution_count": 8,
      "metadata": {
        "colab": {
          "base_uri": "https://localhost:8080/"
        },
        "id": "0Gfj0b4cLavH",
        "outputId": "e7b69b1a-4503-4cd7-f03a-fdb60f72bbaf"
      },
      "outputs": [
        {
          "data": {
            "text/plain": [
              "array([[-1.39689985e+00],\n",
              "       [-4.00677792e-05],\n",
              "       [-9.40958975e-01],\n",
              "       [ 3.41797320e+00],\n",
              "       [-1.26811792e+00],\n",
              "       [-1.47710396e+00],\n",
              "       [ 1.63792554e-01],\n",
              "       [ 5.35128819e+00],\n",
              "       [ 5.85006051e-02]])"
            ]
          },
          "execution_count": 8,
          "metadata": {},
          "output_type": "execute_result"
        }
      ],
      "source": [
        "w"
      ]
    },
    {
      "cell_type": "code",
      "execution_count": null,
      "metadata": {
        "id": "XTvtD3AbKnrp"
      },
      "outputs": [],
      "source": []
    }
  ],
  "metadata": {
    "colab": {
      "provenance": []
    },
    "kernelspec": {
      "display_name": "Python 3",
      "name": "python3"
    },
    "language_info": {
      "codemirror_mode": {
        "name": "ipython",
        "version": 3
      },
      "file_extension": ".py",
      "mimetype": "text/x-python",
      "name": "python",
      "nbconvert_exporter": "python",
      "pygments_lexer": "ipython3",
      "version": "3.12.1"
    }
  },
  "nbformat": 4,
  "nbformat_minor": 0
}
